{
 "cells": [
  {
   "cell_type": "code",
   "execution_count": 113,
   "metadata": {},
   "outputs": [
    {
     "data": {
      "text/plain": [
       "['/home/ramiro/VScode/telam/config.ini']"
      ]
     },
     "execution_count": 113,
     "metadata": {},
     "output_type": "execute_result"
    }
   ],
   "source": [
    "import configparser \n",
    "import tweepy as tw\n",
    "\n",
    "config = configparser.RawConfigParser()\n",
    "config.read(filenames = '/home/ramiro/VScode/telam/config.ini')"
   ]
  },
  {
   "cell_type": "code",
   "execution_count": 130,
   "metadata": {},
   "outputs": [],
   "source": [
    "apikey = config['twitter']['API_KEY']\n",
    "apisecretkey = config['twitter']['API_KEY_SECRET']\n",
    "accesstoken = config['twitter']['ACCESS_TOKEN']\n",
    "accesstokensecret = config['twitter']['ACCESS_TOKEN_SECRET']\n",
    "bearer_token = config['twitter']['BEARER_TOKEN']\n",
    "clientkey = config['twitter']['CLIENT_ID']\n",
    "secretclientkey = config['twitter']['CLIENT_SECRET']\n",
    "\n",
    "api = tw.Client(bearer_token,\n",
    "                consumer_key=apikey,\n",
    "                consumer_secret=apisecretkey,\n",
    "                access_token=accesstoken,\n",
    "                access_token_secret=accesstokensecret)"
   ]
  },
  {
   "cell_type": "code",
   "execution_count": 30,
   "metadata": {},
   "outputs": [],
   "source": [
    "journals = ['CNNEE', 'todonoticias', 'clarincom', 'LANACION', 'infobaeamerica']\n",
    "ids = {}\n",
    "for journal in journals:\n",
    "    user = api.get_user(username = journal)\n",
    "    ids[journal] = user.data.id\n"
   ]
  },
  {
   "cell_type": "code",
   "execution_count": 131,
   "metadata": {},
   "outputs": [],
   "source": [
    "tweets = {}\n",
    "for id, value in ids.items():\n",
    "    tweets[id] = api.get_users_tweets(value, max_results = 5,exclude = 'replies')"
   ]
  },
  {
   "cell_type": "code",
   "execution_count": 132,
   "metadata": {},
   "outputs": [
    {
     "name": "stdout",
     "output_type": "stream",
     "text": [
      "1502030322422198274 Moscú anunció que abrirá unilateralmente todos los días rutas de evacuación que conduzcan hacia Rusia para civiles en Ucrania https://t.co/M4hIt0Z2gs\n"
     ]
    }
   ],
   "source": [
    "print(tweets['CNNEE'].data[0].id, tweets['CNNEE'].data[0].text)"
   ]
  },
  {
   "cell_type": "code",
   "execution_count": 95,
   "metadata": {},
   "outputs": [
    {
     "data": {
      "text/html": [
       "<div>\n",
       "<style scoped>\n",
       "    .dataframe tbody tr th:only-of-type {\n",
       "        vertical-align: middle;\n",
       "    }\n",
       "\n",
       "    .dataframe tbody tr th {\n",
       "        vertical-align: top;\n",
       "    }\n",
       "\n",
       "    .dataframe thead th {\n",
       "        text-align: right;\n",
       "    }\n",
       "</style>\n",
       "<table border=\"1\" class=\"dataframe\">\n",
       "  <thead>\n",
       "    <tr style=\"text-align: right;\">\n",
       "      <th></th>\n",
       "      <th>journal</th>\n",
       "      <th>tweet</th>\n",
       "    </tr>\n",
       "    <tr>\n",
       "      <th>id</th>\n",
       "      <th></th>\n",
       "      <th></th>\n",
       "    </tr>\n",
       "  </thead>\n",
       "  <tbody>\n",
       "    <tr>\n",
       "      <th>1501981266475991044</th>\n",
       "      <td>CNNEE</td>\n",
       "      <td>¿Por qué el precio récord de la gasolina no se resuelve extrayendo más petróleo en Estados Unidos?\\n\\nhttps://t.co/IsnIkz6Tww</td>\n",
       "    </tr>\n",
       "    <tr>\n",
       "      <th>1501976188545376276</th>\n",
       "      <td>CNNEE</td>\n",
       "      <td>La opositora venezolana María Corina Machado conversó con CNN sobre el acercamiento de EE.UU. al gobierno de su país para evaluar un alivio a las sanciones de Washington contra el cuestionado presidente Nicolás Maduro. https://t.co/BLnvpGbMuP</td>\n",
       "    </tr>\n",
       "    <tr>\n",
       "      <th>1501973687528001537</th>\n",
       "      <td>CNNEE</td>\n",
       "      <td>La Cruz Roja advierte que la situación humanitaria en Mariupol es \"cada vez más grave\"\\nhttps://t.co/bokTv4nYTM https://t.co/uu63DMIuxi</td>\n",
       "    </tr>\n",
       "    <tr>\n",
       "      <th>1501971186204434435</th>\n",
       "      <td>CNNEE</td>\n",
       "      <td>EE.UU. estudia más sanciones contra Rusia, según la secretaria del Tesoro\\n\\nhttps://t.co/0SXrZsHlfB https://t.co/bhR4HNw0RY</td>\n",
       "    </tr>\n",
       "    <tr>\n",
       "      <th>1501969906585292803</th>\n",
       "      <td>CNNEE</td>\n",
       "      <td>🌈 Hay un arcoíris viviente en la \"zona crepuscular\" del océano. 🐟 Saluda al pez hada con velo de rosa.\\nhttps://t.co/NNbm33mqM2</td>\n",
       "    </tr>\n",
       "    <tr>\n",
       "      <th>...</th>\n",
       "      <td>...</td>\n",
       "      <td>...</td>\n",
       "    </tr>\n",
       "    <tr>\n",
       "      <th>1501949975831273473</th>\n",
       "      <td>Chequeado</td>\n",
       "      <td>https://t.co/cnIMxlCWiw</td>\n",
       "    </tr>\n",
       "    <tr>\n",
       "      <th>1501949967967014921</th>\n",
       "      <td>Chequeado</td>\n",
       "      <td>Durante la Presidencia de Mauricio Macri la deuda pasó de US$ 148.881 a US$ 249.046 millones, una diferencia de poco más de US$ 100 mil millones.\\n\\nSin embargo, de ese total casi US$ 20 mil millones son bonos emitidos para responder a deudas contraídas en gestiones anteriores.</td>\n",
       "    </tr>\n",
       "    <tr>\n",
       "      <th>1501949963919499277</th>\n",
       "      <td>Chequeado</td>\n",
       "      <td>[NUEVO] Guzmán: “La deuda en dólares, denominada en moneda extranjera, había crecido entre 2015 y 2019 en US$ 100 mil millones”. Es #VERDADERO,PERO...\\n\\n👉🏻Leé los #datos en: https://t.co/L42anvR9gu\\n\\n🖋️Por @jose__gimenez.</td>\n",
       "    </tr>\n",
       "    <tr>\n",
       "      <th>1501938432183922696</th>\n",
       "      <td>Chequeado</td>\n",
       "      <td>✏️💻¿Sos docente y te gustaría trabajar en el aula con discursos políticos? \\n\\nDesde #ChequeadoEducación te proponemos algunas estrategias para que las y los estudiantes aprendan a distinguir entre datos y valoraciones subjetivas. ¡Mirá este video!👇 https://t.co/PccH9NjZgZ</td>\n",
       "    </tr>\n",
       "    <tr>\n",
       "      <th>1501913515598225408</th>\n",
       "      <td>Chequeado</td>\n",
       "      <td>Acuerdo con el FMI: qué compromisos y proyecciones prevé el acuerdo y cómo evolucionaron esas variables.\\n\\nRepasamos las cifras proyectadas para los próximos 3 años y cómo fue su evolución en los últimos años. \\n\\nLeélo en: https://t.co/BdBn77ZCfW \\n\\n🖋️Por @ManuelTarricone.</td>\n",
       "    </tr>\n",
       "  </tbody>\n",
       "</table>\n",
       "<p>505 rows × 2 columns</p>\n",
       "</div>"
      ],
      "text/plain": [
       "                       journal  \\\n",
       "id                               \n",
       "1501981266475991044      CNNEE   \n",
       "1501976188545376276      CNNEE   \n",
       "1501973687528001537      CNNEE   \n",
       "1501971186204434435      CNNEE   \n",
       "1501969906585292803      CNNEE   \n",
       "...                        ...   \n",
       "1501949975831273473  Chequeado   \n",
       "1501949967967014921  Chequeado   \n",
       "1501949963919499277  Chequeado   \n",
       "1501938432183922696  Chequeado   \n",
       "1501913515598225408  Chequeado   \n",
       "\n",
       "                                                                                                                                                                                                                                                                                                      tweet  \n",
       "id                                                                                                                                                                                                                                                                                                           \n",
       "1501981266475991044                                                                                                                                                           ¿Por qué el precio récord de la gasolina no se resuelve extrayendo más petróleo en Estados Unidos?\\n\\nhttps://t.co/IsnIkz6Tww  \n",
       "1501976188545376276                                      La opositora venezolana María Corina Machado conversó con CNN sobre el acercamiento de EE.UU. al gobierno de su país para evaluar un alivio a las sanciones de Washington contra el cuestionado presidente Nicolás Maduro. https://t.co/BLnvpGbMuP  \n",
       "1501973687528001537                                                                                                                                                 La Cruz Roja advierte que la situación humanitaria en Mariupol es \"cada vez más grave\"\\nhttps://t.co/bokTv4nYTM https://t.co/uu63DMIuxi  \n",
       "1501971186204434435                                                                                                                                                            EE.UU. estudia más sanciones contra Rusia, según la secretaria del Tesoro\\n\\nhttps://t.co/0SXrZsHlfB https://t.co/bhR4HNw0RY  \n",
       "1501969906585292803                                                                                                                                                         🌈 Hay un arcoíris viviente en la \"zona crepuscular\" del océano. 🐟 Saluda al pez hada con velo de rosa.\\nhttps://t.co/NNbm33mqM2  \n",
       "...                                                                                                                                                                                                                                                                                                     ...  \n",
       "1501949975831273473                                                                                                                                                                                                                                                                 https://t.co/cnIMxlCWiw  \n",
       "1501949967967014921  Durante la Presidencia de Mauricio Macri la deuda pasó de US$ 148.881 a US$ 249.046 millones, una diferencia de poco más de US$ 100 mil millones.\\n\\nSin embargo, de ese total casi US$ 20 mil millones son bonos emitidos para responder a deudas contraídas en gestiones anteriores.  \n",
       "1501949963919499277                                                         [NUEVO] Guzmán: “La deuda en dólares, denominada en moneda extranjera, había crecido entre 2015 y 2019 en US$ 100 mil millones”. Es #VERDADERO,PERO...\\n\\n👉🏻Leé los #datos en: https://t.co/L42anvR9gu\\n\\n🖋️Por @jose__gimenez.  \n",
       "1501938432183922696       ✏️💻¿Sos docente y te gustaría trabajar en el aula con discursos políticos? \\n\\nDesde #ChequeadoEducación te proponemos algunas estrategias para que las y los estudiantes aprendan a distinguir entre datos y valoraciones subjetivas. ¡Mirá este video!👇 https://t.co/PccH9NjZgZ  \n",
       "1501913515598225408    Acuerdo con el FMI: qué compromisos y proyecciones prevé el acuerdo y cómo evolucionaron esas variables.\\n\\nRepasamos las cifras proyectadas para los próximos 3 años y cómo fue su evolución en los últimos años. \\n\\nLeélo en: https://t.co/BdBn77ZCfW \\n\\n🖋️Por @ManuelTarricone.  \n",
       "\n",
       "[505 rows x 2 columns]"
      ]
     },
     "execution_count": 95,
     "metadata": {},
     "output_type": "execute_result"
    }
   ],
   "source": [
    "import pandas as pd\n",
    "df2 = pd.DataFrame(data)\n",
    "pd.options.display.max_colwidth = 300\n",
    "df2 = df2.set_index('id')\n",
    "\n",
    "df1 = pd.read_csv('noticias_twitter')\n",
    "df1 = df1.set_index('id')\n",
    "df = pd.concat([df1,df2]).drop_duplicates()\n",
    "df\n"
   ]
  },
  {
   "cell_type": "code",
   "execution_count": 140,
   "metadata": {},
   "outputs": [
    {
     "ename": "Forbidden",
     "evalue": "403 Forbidden\n453 - You currently have Essential access which includes access to Twitter API v2 endpoints only. If you need access to this endpoint, you’ll need to apply for Elevated access via the Developer Portal. You can learn more here: https://developer.twitter.com/en/docs/twitter-api/getting-started/about-twitter-api#v2-access-leve",
     "output_type": "error",
     "traceback": [
      "\u001b[0;31m---------------------------------------------------------------------------\u001b[0m",
      "\u001b[0;31mForbidden\u001b[0m                                 Traceback (most recent call last)",
      "\u001b[0;32m/tmp/ipykernel_274/2608942301.py\u001b[0m in \u001b[0;36m<module>\u001b[0;34m\u001b[0m\n\u001b[1;32m      3\u001b[0m \u001b[0;34m\u001b[0m\u001b[0m\n\u001b[1;32m      4\u001b[0m \u001b[0mapi\u001b[0m \u001b[0;34m=\u001b[0m \u001b[0mtw\u001b[0m\u001b[0;34m.\u001b[0m\u001b[0mAPI\u001b[0m\u001b[0;34m(\u001b[0m\u001b[0mauth\u001b[0m\u001b[0;34m)\u001b[0m\u001b[0;34m\u001b[0m\u001b[0;34m\u001b[0m\u001b[0m\n\u001b[0;32m----> 5\u001b[0;31m \u001b[0mapi\u001b[0m\u001b[0;34m.\u001b[0m\u001b[0mupdate_status\u001b[0m\u001b[0;34m(\u001b[0m \u001b[0mstatus\u001b[0m \u001b[0;34m=\u001b[0m \u001b[0;34m'Probando la Api de twitter'\u001b[0m\u001b[0;34m)\u001b[0m\u001b[0;34m\u001b[0m\u001b[0;34m\u001b[0m\u001b[0m\n\u001b[0m",
      "\u001b[0;32m~/anaconda3/lib/python3.9/site-packages/tweepy/api.py\u001b[0m in \u001b[0;36mwrapper\u001b[0;34m(*args, **kwargs)\u001b[0m\n\u001b[1;32m     44\u001b[0m             \u001b[0mkwargs\u001b[0m\u001b[0;34m[\u001b[0m\u001b[0;34m'payload_list'\u001b[0m\u001b[0;34m]\u001b[0m \u001b[0;34m=\u001b[0m \u001b[0mpayload_list\u001b[0m\u001b[0;34m\u001b[0m\u001b[0;34m\u001b[0m\u001b[0m\n\u001b[1;32m     45\u001b[0m             \u001b[0mkwargs\u001b[0m\u001b[0;34m[\u001b[0m\u001b[0;34m'payload_type'\u001b[0m\u001b[0;34m]\u001b[0m \u001b[0;34m=\u001b[0m \u001b[0mpayload_type\u001b[0m\u001b[0;34m\u001b[0m\u001b[0;34m\u001b[0m\u001b[0m\n\u001b[0;32m---> 46\u001b[0;31m             \u001b[0;32mreturn\u001b[0m \u001b[0mmethod\u001b[0m\u001b[0;34m(\u001b[0m\u001b[0;34m*\u001b[0m\u001b[0margs\u001b[0m\u001b[0;34m,\u001b[0m \u001b[0;34m**\u001b[0m\u001b[0mkwargs\u001b[0m\u001b[0;34m)\u001b[0m\u001b[0;34m\u001b[0m\u001b[0;34m\u001b[0m\u001b[0m\n\u001b[0m\u001b[1;32m     47\u001b[0m         \u001b[0mwrapper\u001b[0m\u001b[0;34m.\u001b[0m\u001b[0mpayload_list\u001b[0m \u001b[0;34m=\u001b[0m \u001b[0mpayload_list\u001b[0m\u001b[0;34m\u001b[0m\u001b[0;34m\u001b[0m\u001b[0m\n\u001b[1;32m     48\u001b[0m         \u001b[0mwrapper\u001b[0m\u001b[0;34m.\u001b[0m\u001b[0mpayload_type\u001b[0m \u001b[0;34m=\u001b[0m \u001b[0mpayload_type\u001b[0m\u001b[0;34m\u001b[0m\u001b[0;34m\u001b[0m\u001b[0m\n",
      "\u001b[0;32m~/anaconda3/lib/python3.9/site-packages/tweepy/api.py\u001b[0m in \u001b[0;36mupdate_status\u001b[0;34m(self, status, **kwargs)\u001b[0m\n\u001b[1;32m   1119\u001b[0m             \u001b[0mkwargs\u001b[0m\u001b[0;34m[\u001b[0m\u001b[0;34m'media_ids'\u001b[0m\u001b[0;34m]\u001b[0m \u001b[0;34m=\u001b[0m \u001b[0mlist_to_csv\u001b[0m\u001b[0;34m(\u001b[0m\u001b[0mkwargs\u001b[0m\u001b[0;34m[\u001b[0m\u001b[0;34m'media_ids'\u001b[0m\u001b[0;34m]\u001b[0m\u001b[0;34m)\u001b[0m\u001b[0;34m\u001b[0m\u001b[0;34m\u001b[0m\u001b[0m\n\u001b[1;32m   1120\u001b[0m \u001b[0;34m\u001b[0m\u001b[0m\n\u001b[0;32m-> 1121\u001b[0;31m         return self.request(\n\u001b[0m\u001b[1;32m   1122\u001b[0m             'POST', 'statuses/update', endpoint_parameters=(\n\u001b[1;32m   1123\u001b[0m                 \u001b[0;34m'status'\u001b[0m\u001b[0;34m,\u001b[0m \u001b[0;34m'in_reply_to_status_id'\u001b[0m\u001b[0;34m,\u001b[0m\u001b[0;34m\u001b[0m\u001b[0;34m\u001b[0m\u001b[0m\n",
      "\u001b[0;32m~/anaconda3/lib/python3.9/site-packages/tweepy/api.py\u001b[0m in \u001b[0;36mrequest\u001b[0;34m(self, method, endpoint, endpoint_parameters, params, headers, json_payload, parser, payload_list, payload_type, post_data, files, require_auth, return_cursors, upload_api, use_cache, **kwargs)\u001b[0m\n\u001b[1;32m    257\u001b[0m                 \u001b[0;32mraise\u001b[0m \u001b[0mUnauthorized\u001b[0m\u001b[0;34m(\u001b[0m\u001b[0mresp\u001b[0m\u001b[0;34m)\u001b[0m\u001b[0;34m\u001b[0m\u001b[0;34m\u001b[0m\u001b[0m\n\u001b[1;32m    258\u001b[0m             \u001b[0;32mif\u001b[0m \u001b[0mresp\u001b[0m\u001b[0;34m.\u001b[0m\u001b[0mstatus_code\u001b[0m \u001b[0;34m==\u001b[0m \u001b[0;36m403\u001b[0m\u001b[0;34m:\u001b[0m\u001b[0;34m\u001b[0m\u001b[0;34m\u001b[0m\u001b[0m\n\u001b[0;32m--> 259\u001b[0;31m                 \u001b[0;32mraise\u001b[0m \u001b[0mForbidden\u001b[0m\u001b[0;34m(\u001b[0m\u001b[0mresp\u001b[0m\u001b[0;34m)\u001b[0m\u001b[0;34m\u001b[0m\u001b[0;34m\u001b[0m\u001b[0m\n\u001b[0m\u001b[1;32m    260\u001b[0m             \u001b[0;32mif\u001b[0m \u001b[0mresp\u001b[0m\u001b[0;34m.\u001b[0m\u001b[0mstatus_code\u001b[0m \u001b[0;34m==\u001b[0m \u001b[0;36m404\u001b[0m\u001b[0;34m:\u001b[0m\u001b[0;34m\u001b[0m\u001b[0;34m\u001b[0m\u001b[0m\n\u001b[1;32m    261\u001b[0m                 \u001b[0;32mraise\u001b[0m \u001b[0mNotFound\u001b[0m\u001b[0;34m(\u001b[0m\u001b[0mresp\u001b[0m\u001b[0;34m)\u001b[0m\u001b[0;34m\u001b[0m\u001b[0;34m\u001b[0m\u001b[0m\n",
      "\u001b[0;31mForbidden\u001b[0m: 403 Forbidden\n453 - You currently have Essential access which includes access to Twitter API v2 endpoints only. If you need access to this endpoint, you’ll need to apply for Elevated access via the Developer Portal. You can learn more here: https://developer.twitter.com/en/docs/twitter-api/getting-started/about-twitter-api#v2-access-leve"
     ]
    }
   ],
   "source": [
    "auth = tw.OAuthHandler(apikey, apisecretkey)\n",
    "auth.set_access_token(accesstoken, accesstokensecret)\n",
    "\n",
    "api = tw.API(auth)\n",
    "api.update_status( status = 'Probando la Api de twitter')\n"
   ]
  }
 ],
 "metadata": {
  "interpreter": {
   "hash": "28d32912ff785b10df1024f38ee4319211f818f7e33b0bebdd22a348463283c4"
  },
  "kernelspec": {
   "display_name": "Python 3.9.7 ('base')",
   "language": "python",
   "name": "python3"
  },
  "language_info": {
   "codemirror_mode": {
    "name": "ipython",
    "version": 3
   },
   "file_extension": ".py",
   "mimetype": "text/x-python",
   "name": "python",
   "nbconvert_exporter": "python",
   "pygments_lexer": "ipython3",
   "version": "3.9.7"
  },
  "orig_nbformat": 4
 },
 "nbformat": 4,
 "nbformat_minor": 2
}
